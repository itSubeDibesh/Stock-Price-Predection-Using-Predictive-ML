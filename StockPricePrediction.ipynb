{
 "cells": [
  {
   "cell_type": "markdown",
   "metadata": {},
   "source": [
    "<div style=\"margin-bottom:110px\">\n",
    "    <a href=\"https://www.ismt.edu.np/\">\n",
    "        <img src=\"./docs/ismt.png\" alt=\"ismt College\"  height=\"100\" align=\"left\">\n",
    "    </a>\n",
    "    <a href=\"https://www.sunderland.ac.uk/\">\n",
    "        <img src=\"./docs/sunderland.png\" alt=\"University of Sunderland\" align=\"right\" height=\"100\" >\n",
    "    </a>\n",
    "    <div align=\"center\"><h3><b>Stock Price Prediction Using Machine Learning Algorithms</b></h3><p><b><a href=\"https://github.com/itSubeDibesh\">Dibesh Raj Subedi</a></b></p></div>\n",
    "</div>\n",
    "\n",
    "# **Stock Price Prediction Using Machine Learning Algorithms**\n",
    "- **Student Name:** [Dibesh Raj Subedi](https://github.com/itSubeDibesh) \n",
    "- **Student ID:** 219327253 \n",
    "- **Module Name:** Artificial Intelligence \n",
    "- **Module Code:** CET313 \n",
    "- **Module Leader / Module Tutor:** [Mr. Himalayan Kashyapati](https://www.youtube.com/channel/UCxOGD9bX_533jPWXfz8smlQ) \n",
    "- **Center:** [ISMT College](https://www.ismt.edu.in/) \n",
    "- **Programme:** BSC. (Hons) Computer Systems Engineering \n",
    "- **Project:** Stock Price Prediction Using Machine Learning Algorithms \n",
    "\n",
    "[![wakatime](https://wakatime.com/badge/github/itSubeDibesh/StockPricePredection.svg)](https://wakatime.com/badge/github/itSubeDibesh/StockPricePredection)\n"
   ]
  },
  {
   "cell_type": "markdown",
   "metadata": {},
   "source": [
    "## ***Table of Contents***\n",
    "\n",
    "- Introduction\n",
    "- Package Setups and Imports\n",
    "     - Dependencies Installation\n",
    "     - Import Libraries\n",
    "- Data Extraction\n",
    "    - Data Extraction Function\n",
    "        - From NEPSE\n",
    "        - From SmartWealthPro\n",
    "    - Data Mining\n",
    "        - Dataframe head from NEPSE\n",
    "        - Dataframe head from SmartWealthPro\n",
    "            - Dataframe head of listed companies\n",
    "            - Dataframe head of selected companies\n",
    "- Stock Price Prediction \n",
    "    - Using Linear Regression\n",
    "    - Using Random Forest\n",
    "    - Using LSTM\n",
    "- Comparison of models\n",
    "- Evaluation of models\n",
    "    - Accuracy\n",
    "    - Confusion Matrix\n",
    "    - Classification Report\n",
    "    - ROC Curve\n",
    "    - Precision-Recall Curve\n",
    "    - ROC-AUC Curve\n",
    "    - Precision-Recall-AUC Curve\n",
    "- Conclusion\n"
   ]
  },
  {
   "cell_type": "markdown",
   "metadata": {},
   "source": [
    "## Introduction\n",
    "\n",
    "**Stock** or **Equity** a part of company plays a **significant** role in the market, reflecting the value of company and also **stating** a source of income for it's investors. Price of share or equity is affected by many factors such as market conditions, economic conditions, government policies, etc. Stock Market and Stock price prediction has been a **lucrative** subject of study for decades. Although there are several factors affecting the price of share or equity, we can observe **several patterns** over long period of time creating an **opportunity of investment**. Being a passive investor myself, the objective of this project is to **predict** the stock price of a company using **Machine Learning** techniques and explore possibilities of using different ML models."
   ]
  },
  {
   "cell_type": "markdown",
   "metadata": {},
   "source": [
    "## Package Setups and Imports\n",
    "\n",
    "Installing Dependencies and Importing Libraries Web Scraping 🕸, Data Processing📈 and Data Visualization📊.\n"
   ]
  },
  {
   "cell_type": "markdown",
   "metadata": {},
   "source": [
    "### Dependencies Installation 📦🛠"
   ]
  },
  {
   "cell_type": "code",
   "execution_count": 1,
   "metadata": {},
   "outputs": [
    {
     "name": "stdout",
     "output_type": "stream",
     "text": [
      "Requirement already satisfied: beautifulsoup4 in d:\\python\\python39\\lib\\site-packages (4.10.0)\n",
      "Requirement already satisfied: soupsieve>1.2 in d:\\python\\python39\\lib\\site-packages (from beautifulsoup4) (2.2.1)\n",
      "Note: you may need to restart the kernel to use updated packages.\n",
      "Requirement already satisfied: requests in d:\\python\\python39\\lib\\site-packages (2.26.0)\n",
      "Requirement already satisfied: idna<4,>=2.5 in d:\\python\\python39\\lib\\site-packages (from requests) (3.2)\n",
      "Requirement already satisfied: certifi>=2017.4.17 in d:\\python\\python39\\lib\\site-packages (from requests) (2021.5.30)\n",
      "Requirement already satisfied: urllib3<1.27,>=1.21.1 in d:\\python\\python39\\lib\\site-packages (from requests) (1.26.6)\n",
      "Requirement already satisfied: charset-normalizer~=2.0.0 in d:\\python\\python39\\lib\\site-packages (from requests) (2.0.4)\n",
      "Note: you may need to restart the kernel to use updated packages.\n",
      "Requirement already satisfied: urllib3 in d:\\python\\python39\\lib\\site-packages (1.26.6)Note: you may need to restart the kernel to use updated packages.\n",
      "\n",
      "Requirement already satisfied: html5lib in d:\\python\\python39\\lib\\site-packages (1.1)\n",
      "Requirement already satisfied: six>=1.9 in d:\\python\\python39\\lib\\site-packages (from html5lib) (1.16.0)\n",
      "Requirement already satisfied: webencodings in d:\\python\\python39\\lib\\site-packages (from html5lib) (0.5.1)\n",
      "Note: you may need to restart the kernel to use updated packages.\n",
      "Requirement already satisfied: numpy in d:\\python\\python39\\lib\\site-packages (1.21.2)\n",
      "Note: you may need to restart the kernel to use updated packages.\n",
      "Requirement already satisfied: pandas in d:\\python\\python39\\lib\\site-packages (1.3.3)\n",
      "Requirement already satisfied: python-dateutil>=2.7.3 in d:\\python\\python39\\lib\\site-packages (from pandas) (2.8.2)\n",
      "Requirement already satisfied: numpy>=1.17.3 in d:\\python\\python39\\lib\\site-packages (from pandas) (1.21.2)\n",
      "Requirement already satisfied: pytz>=2017.3 in d:\\python\\python39\\lib\\site-packages (from pandas) (2021.1)\n",
      "Requirement already satisfied: six>=1.5 in d:\\python\\python39\\lib\\site-packages (from python-dateutil>=2.7.3->pandas) (1.16.0)\n",
      "Note: you may need to restart the kernel to use updated packages.\n",
      "Requirement already satisfied: matplotlib in d:\\python\\python39\\lib\\site-packages (3.4.3)\n",
      "Requirement already satisfied: pillow>=6.2.0 in d:\\python\\python39\\lib\\site-packages (from matplotlib) (8.3.2)\n",
      "Requirement already satisfied: kiwisolver>=1.0.1 in d:\\python\\python39\\lib\\site-packages (from matplotlib) (1.3.2)\n",
      "Requirement already satisfied: pyparsing>=2.2.1 in d:\\python\\python39\\lib\\site-packages (from matplotlib) (2.4.7)\n",
      "Requirement already satisfied: python-dateutil>=2.7 in d:\\python\\python39\\lib\\site-packages (from matplotlib) (2.8.2)\n",
      "Requirement already satisfied: cycler>=0.10 in d:\\python\\python39\\lib\\site-packages (from matplotlib) (0.10.0)\n",
      "Requirement already satisfied: numpy>=1.16 in d:\\python\\python39\\lib\\site-packages (from matplotlib) (1.21.2)\n",
      "Requirement already satisfied: six in d:\\python\\python39\\lib\\site-packages (from cycler>=0.10->matplotlib) (1.16.0)\n",
      "Note: you may need to restart the kernel to use updated packages.\n",
      "Requirement already satisfied: sklearn in d:\\python\\python39\\lib\\site-packages (0.0)\n",
      "Requirement already satisfied: scikit-learn in d:\\python\\python39\\lib\\site-packages (from sklearn) (1.0.2)\n",
      "Requirement already satisfied: numpy>=1.14.6 in d:\\python\\python39\\lib\\site-packages (from scikit-learn->sklearn) (1.21.2)\n",
      "Requirement already satisfied: joblib>=0.11 in d:\\python\\python39\\lib\\site-packages (from scikit-learn->sklearn) (1.1.0)\n",
      "Requirement already satisfied: threadpoolctl>=2.0.0 in d:\\python\\python39\\lib\\site-packages (from scikit-learn->sklearn) (3.1.0)\n",
      "Requirement already satisfied: scipy>=1.1.0 in d:\\python\\python39\\lib\\site-packages (from scikit-learn->sklearn) (1.8.0)Note: you may need to restart the kernel to use updated packages.\n",
      "\n"
     ]
    }
   ],
   "source": [
    "# Data Extraction\n",
    "%pip install beautifulsoup4\n",
    "%pip install requests\n",
    "%pip install urllib3\n",
    "%pip install html5lib\n",
    "# Data Manipulation\n",
    "%pip install numpy\n",
    "%pip install pandas\n",
    "# Data Visualization\n",
    "%pip install matplotlib\n",
    "# Machine Learning\n",
    "%pip install sklearn"
   ]
  },
  {
   "cell_type": "markdown",
   "metadata": {},
   "source": [
    "### Import Libraries ⬇📦"
   ]
  },
  {
   "cell_type": "code",
   "execution_count": 2,
   "metadata": {},
   "outputs": [],
   "source": [
    "# Data Extraction\n",
    "from bs4 import BeautifulSoup as BS\n",
    "import requests\n",
    "import urllib3\n",
    "import json\n",
    "# Data Manipulation\n",
    "import numpy as np\n",
    "import pandas as pd\n",
    "# File Handling\n",
    "import os\n",
    "# Data Visualization\n",
    "import matplotlib.pyplot as plt\n",
    "import datetime \n",
    "# Machine Learning\n",
    "from sklearn import model_selection\n",
    "from sklearn.metrics import classification_report\n",
    "from sklearn.metrics import confusion_matrix\n",
    "from sklearn.metrics import accuracy_score\n",
    "from sklearn.linear_model import LogisticRegression"
   ]
  },
  {
   "cell_type": "markdown",
   "metadata": {},
   "source": [
    "## Data Extraction\n",
    "\n",
    "To implement ML modules we need dataset and I will be using **Nepal Stock Exchange**([NEPSE](http://www.nepalstock.com)) and [SmartWealthPro](https://app.smartwealthpro.com) website to scrape dataset.\n",
    "\n",
    "Useful request types to make web and api requests for data extraction"
   ]
  },
  {
   "cell_type": "code",
   "execution_count": 3,
   "metadata": {},
   "outputs": [],
   "source": [
    "# Request List\n",
    "REQUESTS = [\"GET\", \"POST\"]\n",
    "\n",
    "# Request type dictionary\n",
    "REQUEST_TYPE = {\n",
    "    \"GET\": REQUESTS[0],\n",
    "    \"POST\": REQUESTS[1]\n",
    "}\n"
   ]
  },
  {
   "cell_type": "markdown",
   "metadata": {},
   "source": [
    "### Data Extraction Functions 📃🕸\n",
    "\n",
    "To extract/mine data I have defined functions to scrape and invoke intercepted api request's from [NEPSE](http://www.nepalstock.com) and [SmartWealthPro](https://app.smartwealthpro.com).\n"
   ]
  },
  {
   "cell_type": "markdown",
   "metadata": {},
   "source": [
    "#### From [NEPSE](http://www.nepalstock.com)\n",
    "After reading [Quassarian Viper](https://q-viper.github.io/2020/11/21/deploying-nepse-data-visualizer-on-heroku/)'s post I found an data extraction method from  [Nepse](http://www.nepalstock.com) website and created functions respectively. "
   ]
  },
  {
   "cell_type": "code",
   "execution_count": 4,
   "metadata": {},
   "outputs": [],
   "source": [
    "\n",
    "def nepse_company_names(save_to_csv: bool = False) -> pd.DataFrame:\n",
    "    \"\"\"Extracts all the company names from NEPSE website\n",
    "\n",
    "    Args:\n",
    "        save_to_csv: Save the data to csv file - Ex: True\n",
    "\n",
    "    Return:\n",
    "        DataFrame of the company names\n",
    "\n",
    "    \"\"\"\n",
    "    http = urllib3.PoolManager()\n",
    "    http.headers.update({'User-Agent': 'Mozilla/5.0'})\n",
    "    web_page = http.request(\n",
    "        method=REQUEST_TYPE[\"GET\"],\n",
    "        url=\"http://www.nepalstock.com/company?_limit=500\"\n",
    "    )\n",
    "    soup = BS(web_page.data, 'html5lib')\n",
    "    table = soup.find('table')\n",
    "    company = []\n",
    "    rows = [row.findAll('td') for row in table.findAll('tr')[1:-2]]\n",
    "    col = 0\n",
    "    notfirstrun = False\n",
    "    for row in rows:\n",
    "        companydata = []\n",
    "        for data in row:\n",
    "            if col == 5 and notfirstrun:\n",
    "                companydata.append(data.a.get('href').split('/')[-1])\n",
    "            else:\n",
    "                companydata.append(data.text.strip())\n",
    "            col += 1\n",
    "        company.append(companydata)\n",
    "        col = 0\n",
    "        notfirstrun = True\n",
    "\n",
    "    df = pd.DataFrame(company[1:], columns=company[0])\n",
    "    df.rename(columns={'Operations': 'Symbol No'}, inplace=True)\n",
    "    df.drop(columns='', inplace=True)\n",
    "    df.drop(columns='S.N.', inplace=True)\n",
    "\n",
    "    if(save_to_csv):\n",
    "        path = './NepseDataset'\n",
    "        if not os.path.exists(path):\n",
    "            os.makedirs(path)\n",
    "        df.to_csv(path+'/company_list.csv', index=False)\n",
    "\n",
    "    return df\n"
   ]
  },
  {
   "cell_type": "markdown",
   "metadata": {},
   "source": [
    "#### From [SmartWealthPro](https://app.smartwealthpro.com/)\n",
    "\n",
    "Although [Data Extraction From Nepse Website](#data-extraction-from-nepalipaisa-website-📃) didn't helped [only for cross validating SmartWealthPro NepseId with Nepse symbol No] much, I found a way to extract data from **paid application**. Firstly, I registered for **Free Trial** on [SmartWealthPro](https://app.smartwealthpro.com) and used [Postman](https://www.postman.com/)'s **Interceptor** to intercept request and response from browser using [Postman](https://www.postman.com/)'s [Interceptor Plugin](https://chrome.google.com/webstore/detail/postman-interceptor/aicmkgpgakddgnaphhhpliifpcfhicfo) and extracted useful URL's along with cookies and imported the request code from postman to python and created respective function which would also store dataset on local drive as csv file.\n"
   ]
  },
  {
   "cell_type": "code",
   "execution_count": 5,
   "metadata": {},
   "outputs": [],
   "source": [
    "COOKIE = \".AspNetCore.Antiforgery.c2MYB_mZqSE=CfDJ8PqVbBoQk65Ji_IQLqiq9W-fOAB5lXkNnLsOdVX_JuYMqnfZdsfQpxhsB_koNdcHbjTS7EKhCsR3Ba0H5eJRCxJYUuF2L2XjMEEsr_lEk0vHcjJbv49IaArGuxzUyEmYBJOaL7GPu4btgEc-6lC39M8; .AspNetCore.Identity.Application=CfDJ8PqVbBoQk65Ji_IQLqiq9W-MNL-VXNllti2wpkpsv9cA8u0kKTKvIGBYkW90A7ni7DpinfIjU2u4puqWHy6fidF0JFbXquKH6q_0wQDTCpB7htmSMnHIkEDijflIUm5tb7zwvETb5wxZ35xV6Q_EjusY0yFyLa-n6ogBJ0j_HDSr2NhyooqZ-dTVOSDyyAi327YiZ_decvG2QFdUOJKUY2MYGwTP3RDhoPDgJyBENNjxgi2QhpnIwGrcmKImFNK2TBpiewXgp_WUJqoHnQFJ5yHCjKW-D59ErSmauHSAXvMnidOAe9BUXVlY3FOgdoEESu4GZAYMMVyByQA8Kc5v8b-MEetPqhqBPTkezn20BaEAG9E5TfCowQmdWzlOYbiDdjlx8JKdHM-TE5gFBtTagEv21qMi83t8tXZP11HF2vZ12zap620XeyDuRS0R8KItA0Lkwc_iUhPPVIiUH9ve61VVNGZD98FCnbGx9DjFlgPX2ONOhz6DBpJp7BWxztF8NRaKzJmnpAMta-ej9ZYw60ONMW2_4r_BEeLvka6_2VOhlI7-O1CopnusQ4oJ11V1wFCX3EfJQ_7vkvKqcsFIV3M3EYWEVD-KY4s8yN9r3tY9RbWnaOpXWSLRr8bE9jRRiddjHmc5o1Ix3zBT66wkpq2Vj8saytK_oHmyM88WPMQmtwZpCuix6wT1BaHHDDaM3putb9FxUEMGrFC6I8A-5IS7p5TIEdUo_nmByI9XsgnKyzD_ACmqhm4MNrRR4r3zAU-8igzRhrT9PptJDe8vIZ-yz6BqqZXYWPyE8kjxTjR2gk7ul4zd0v309RSCLO5FilbVknSwliy1rPIXyVZhCZE\"\n",
    "\n",
    "\n",
    "def smart_wealth_company_list(save_to_csv=False) -> pd.DataFrame:\n",
    "    \"\"\" Retrives List of Company from SmartWealthPro which includes CompanyId Defined by SmartWealthPro and also help's to export as csv file.\n",
    "\n",
    "    Args:\n",
    "        save_to_csv: (bool) - Ex : True\n",
    "    Returns:\n",
    "        df: (pd.DataFrame)\n",
    "    \"\"\"\n",
    "    url = \"https://app.smartwealthpro.com/api/GetAutoCompleteCompanies?_=1648523415665\"\n",
    "    payload = {}\n",
    "    headers = {\n",
    "        'sec-ch-ua': '\" Not A;Brand\";v=\"99\", \"Chromium\";v=\"99\", \"Microsoft Edge\";v=\"99\"',\n",
    "        'Accept': 'application/json, text/javascript, */*; q=0.01',\n",
    "        'Content-Type': 'application/json; charset=utf-8',\n",
    "        'X-Requested-With': 'XMLHttpRequest',\n",
    "        'sec-ch-ua-mobile': '?0',\n",
    "        'User-Agent': 'Mozilla/5.0 (Windows NT 10.0; Win64; x64) AppleWebKit/537.36 (KHTML, like Gecko) Chrome/99.0.4844.74 Safari/537.36 Edg/99.0.1150.55',\n",
    "        'sec-ch-ua-platform': '\"Windows\"',\n",
    "        'Cookie': COOKIE\n",
    "    }\n",
    "    response = requests.request(\"GET\", url, headers=headers, data=payload)\n",
    "    print(\n",
    "        f\"Status Code: {response.status_code}, Mining ⛏ Status: {'Success' if response.status_code==200 else 'Failed'}\")\n",
    "    if response.status_code == 200:\n",
    "        SMARTWEALTH_JSON = json.loads(response.text)\n",
    "        df = pd.DataFrame(SMARTWEALTH_JSON[\"result\"])\n",
    "        df.drop(columns='type', inplace=True)\n",
    "        df.rename(columns={'companyId': 'CompanyId', 'nepseCompanyId': 'NepseId',\n",
    "                           'companyName': 'Company', 'stockSymbol': 'Symbol', 'sector': 'Sector'}, inplace=True)\n",
    "        if save_to_csv:\n",
    "            path = \"./SmartWealthDataset\"\n",
    "            if not os.path.exists(path):\n",
    "                os.makedirs(path)\n",
    "            df.to_csv(path + '/smartwealthpro_company_list.csv', index=False)\n",
    "        return df\n",
    "    else:\n",
    "        return None\n",
    "\n",
    "\n",
    "def smart_wealth_company_history(companyId: str, startDate: str = \"\", endDate: str = \"\", save_to_csv=False) -> pd.DataFrame:\n",
    "    \"\"\" Fetch Company History from SmartWealthPro.\n",
    "\n",
    "    Args:\n",
    "        companyId: (str) - Ex : 154\n",
    "        startDate: (str) - Ex : \"2010-01-01\" (YYYY-MM-DD)\n",
    "        endDate: (str) - Ex : \"2020-01-01\"  (YYYY-MM-DD)\n",
    "        save_to_csv: (bool) - Ex : True\n",
    "\n",
    "    Returns:\n",
    "        df: (pd.DataFrame)\n",
    "    \"\"\"\n",
    "    #\n",
    "    url = \"https://app.smartwealthpro.com/api/GetDailyHistoricalData?type=stock&id=\"+companyId+\"&fromDate=\" + \\\n",
    "        startDate+\"&toDate=\"+endDate + \\\n",
    "        \"&pageNo=1&itemsPerPage=9000000&pagePerDisplay=5&_=1648522274261\"\n",
    "    payload = {}\n",
    "    headers = {\n",
    "        'sec-ch-ua': '\" Not A;Brand\";v=\"99\", \"Chromium\";v=\"99\", \"Microsoft Edge\";v=\"99\"',\n",
    "        'Accept': 'application/json, text/javascript, */*; q=0.01',\n",
    "        'Content-Type': 'application/json; charset=utf-8',\n",
    "        'X-Requested-With': 'XMLHttpRequest',\n",
    "        'sec-ch-ua-mobile': '?0',\n",
    "        'User-Agent': 'Mozilla/5.0 (Windows NT 10.0; Win64; x64) AppleWebKit/537.36 (KHTML, like Gecko) Chrome/99.0.4844.74 Safari/537.36 Edg/99.0.1150.55',\n",
    "        'sec-ch-ua-platform': '\"Windows\"',\n",
    "        'Cookie': COOKIE\n",
    "    }\n",
    "    response = requests.request(\"GET\", url, headers=headers, data=payload)\n",
    "    print(\n",
    "        f\"Status Code: {response.status_code}, Mining ⛏ Status: {'Success' if response.status_code==200 else 'Failed'}\")\n",
    "    if response.status_code == 200:\n",
    "        SMARTWEALTH_JSON = json.loads(response.text)\n",
    "        df = pd.DataFrame(SMARTWEALTH_JSON[\"result\"]['data'])\n",
    "        df.drop(columns='sNo', inplace=True)\n",
    "        df.rename(columns={'tradeDate': 'Date', 'open': 'Open',\n",
    "                  'high': 'High', 'low': 'Low', 'close': 'Close'}, inplace=True)\n",
    "        df.insert(\n",
    "            0, 'Symbol', SMARTWEALTH_JSON[\"result\"]['summary']['stockSymbol'])\n",
    "        if save_to_csv:\n",
    "            path = \"./SmartWealthDataset/Company\"\n",
    "            if not os.path.exists(path):\n",
    "                os.makedirs(path)\n",
    "            df.to_csv(path+'/smartwealthpro_' +\n",
    "                      SMARTWEALTH_JSON[\"result\"]['summary']['stockSymbol']+'_history.csv', index=False)\n",
    "        return df\n",
    "    else:\n",
    "        return None\n",
    "\n",
    "\n",
    "def smart_wealth_company_code(symbol: str) -> str:\n",
    "    \"\"\"\n",
    "    Returns CompanyCode as per SmartWealthPro using stock symbol.\n",
    "\n",
    "    Args:\n",
    "        symbol: (str) - Ex : \"AHPC\"\n",
    "    Returns:\n",
    "        companyCode: (str) - Ex : \"154\"\n",
    "    \"\"\"\n",
    "    cvs_file = pd.read_csv(\n",
    "        './SmartWealthDataset/smartwealthpro_company_list.csv')\n",
    "    return cvs_file[cvs_file['Symbol'] == symbol]['CompanyId'].values[0].__str__()\n"
   ]
  },
  {
   "cell_type": "markdown",
   "metadata": {},
   "source": [
    "### Data Mining ⛏\n",
    "\n",
    "After defining function to extract data from **NEPSE** and **SmartWealthPro** websites, I invoked functions and extracted dataset and also stored it on csv file locally for data storage and easy manipulation."
   ]
  },
  {
   "cell_type": "markdown",
   "metadata": {},
   "source": [
    "#### Dataframe head from [Nepse](http://www.nepalstock.com)"
   ]
  },
  {
   "cell_type": "code",
   "execution_count": 6,
   "metadata": {},
   "outputs": [
    {
     "data": {
      "text/html": [
       "<div>\n",
       "<style scoped>\n",
       "    .dataframe tbody tr th:only-of-type {\n",
       "        vertical-align: middle;\n",
       "    }\n",
       "\n",
       "    .dataframe tbody tr th {\n",
       "        vertical-align: top;\n",
       "    }\n",
       "\n",
       "    .dataframe thead th {\n",
       "        text-align: right;\n",
       "    }\n",
       "</style>\n",
       "<table border=\"1\" class=\"dataframe\">\n",
       "  <thead>\n",
       "    <tr style=\"text-align: right;\">\n",
       "      <th></th>\n",
       "      <th>Stock Name</th>\n",
       "      <th>Stock Symbol</th>\n",
       "      <th>Sector</th>\n",
       "      <th>Symbol No</th>\n",
       "    </tr>\n",
       "  </thead>\n",
       "  <tbody>\n",
       "    <tr>\n",
       "      <th>0</th>\n",
       "      <td>10 % NMB DEBENTURE 2085</td>\n",
       "      <td>NMBD2085</td>\n",
       "      <td>Corporate Debenture</td>\n",
       "      <td>2850</td>\n",
       "    </tr>\n",
       "    <tr>\n",
       "      <th>1</th>\n",
       "      <td>10% Himalayan Bank Debenture 2083</td>\n",
       "      <td>HBLD83</td>\n",
       "      <td>Corporate Debenture</td>\n",
       "      <td>2873</td>\n",
       "    </tr>\n",
       "    <tr>\n",
       "      <th>2</th>\n",
       "      <td>10% Laxmi Bank Debenture 2086</td>\n",
       "      <td>LBLD86</td>\n",
       "      <td>Corporate Debenture</td>\n",
       "      <td>2879</td>\n",
       "    </tr>\n",
       "    <tr>\n",
       "      <th>3</th>\n",
       "      <td>10% Nabil Debenture 2082</td>\n",
       "      <td>NBLD82</td>\n",
       "      <td>Corporate Debenture</td>\n",
       "      <td>2892</td>\n",
       "    </tr>\n",
       "    <tr>\n",
       "      <th>4</th>\n",
       "      <td>10% Nepal SBI Bank Debenture 2086</td>\n",
       "      <td>SBIBD86</td>\n",
       "      <td>Corporate Debenture</td>\n",
       "      <td>2890</td>\n",
       "    </tr>\n",
       "  </tbody>\n",
       "</table>\n",
       "</div>"
      ],
      "text/plain": [
       "                          Stock Name Stock Symbol               Sector  \\\n",
       "0            10 % NMB DEBENTURE 2085     NMBD2085  Corporate Debenture   \n",
       "1  10% Himalayan Bank Debenture 2083       HBLD83  Corporate Debenture   \n",
       "2      10% Laxmi Bank Debenture 2086       LBLD86  Corporate Debenture   \n",
       "3           10% Nabil Debenture 2082       NBLD82  Corporate Debenture   \n",
       "4  10% Nepal SBI Bank Debenture 2086      SBIBD86  Corporate Debenture   \n",
       "\n",
       "  Symbol No  \n",
       "0      2850  \n",
       "1      2873  \n",
       "2      2879  \n",
       "3      2892  \n",
       "4      2890  "
      ]
     },
     "execution_count": 6,
     "metadata": {},
     "output_type": "execute_result"
    }
   ],
   "source": [
    "nepse_company_names(save_to_csv=True).head()"
   ]
  },
  {
   "cell_type": "markdown",
   "metadata": {},
   "source": [
    "#### DataFrame head from [ SmartWealthPro](#data-extraction-from-smartwealthprohttpsappsmartwealthprocom-website-📃)"
   ]
  },
  {
   "cell_type": "code",
   "execution_count": 7,
   "metadata": {},
   "outputs": [],
   "source": [
    "# NABIL is one of the top Banks of Nepal, \n",
    "# NEPAL Life Insurance Company(NLIC) is one of the leading Life Insurance company and \n",
    "# Citizen Investment Trust(CIT) is an government company with a good market share.\n",
    "selected_company_symbol = [\"NABIL\", \"NLIC\", \"CIT\"] \n",
    "starting_date = \"2000-01-01\"\n",
    "ending_date = \"2022-12-31\""
   ]
  },
  {
   "cell_type": "markdown",
   "metadata": {},
   "source": [
    "##### Dataframe head of listed companies"
   ]
  },
  {
   "cell_type": "code",
   "execution_count": 8,
   "metadata": {},
   "outputs": [
    {
     "name": "stdout",
     "output_type": "stream",
     "text": [
      "Status Code: 200, Mining ⛏ Status: Success\n"
     ]
    },
    {
     "data": {
      "text/html": [
       "<div>\n",
       "<style scoped>\n",
       "    .dataframe tbody tr th:only-of-type {\n",
       "        vertical-align: middle;\n",
       "    }\n",
       "\n",
       "    .dataframe tbody tr th {\n",
       "        vertical-align: top;\n",
       "    }\n",
       "\n",
       "    .dataframe thead th {\n",
       "        text-align: right;\n",
       "    }\n",
       "</style>\n",
       "<table border=\"1\" class=\"dataframe\">\n",
       "  <thead>\n",
       "    <tr style=\"text-align: right;\">\n",
       "      <th></th>\n",
       "      <th>CompanyId</th>\n",
       "      <th>NepseId</th>\n",
       "      <th>Company</th>\n",
       "      <th>Symbol</th>\n",
       "      <th>Sector</th>\n",
       "    </tr>\n",
       "  </thead>\n",
       "  <tbody>\n",
       "    <tr>\n",
       "      <th>0</th>\n",
       "      <td>596</td>\n",
       "      <td>2790</td>\n",
       "      <td>Aarambha Chautari Laghubitta Bittiya Sanstha L...</td>\n",
       "      <td>ACLBSL</td>\n",
       "      <td>Microfinance</td>\n",
       "    </tr>\n",
       "    <tr>\n",
       "      <th>1</th>\n",
       "      <td>259</td>\n",
       "      <td>2845</td>\n",
       "      <td>Adhikhola Laghubitta Bittiya Sanstha Limited</td>\n",
       "      <td>AKBSL</td>\n",
       "      <td>Microfinance</td>\n",
       "    </tr>\n",
       "    <tr>\n",
       "      <th>2</th>\n",
       "      <td>2</td>\n",
       "      <td>397</td>\n",
       "      <td>Agriculture Development Bank Limited</td>\n",
       "      <td>ADBL</td>\n",
       "      <td>Commercial Banks</td>\n",
       "    </tr>\n",
       "    <tr>\n",
       "      <th>3</th>\n",
       "      <td>583</td>\n",
       "      <td>2893</td>\n",
       "      <td>Ajod Insurance Limited</td>\n",
       "      <td>AIL</td>\n",
       "      <td>Non Life Insurance</td>\n",
       "    </tr>\n",
       "    <tr>\n",
       "      <th>4</th>\n",
       "      <td>151</td>\n",
       "      <td>2788</td>\n",
       "      <td>Ankhu Khola Jalvidhyut Company Ltd</td>\n",
       "      <td>AKJCL</td>\n",
       "      <td>Hydro Power</td>\n",
       "    </tr>\n",
       "  </tbody>\n",
       "</table>\n",
       "</div>"
      ],
      "text/plain": [
       "   CompanyId  NepseId                                            Company  \\\n",
       "0        596     2790  Aarambha Chautari Laghubitta Bittiya Sanstha L...   \n",
       "1        259     2845       Adhikhola Laghubitta Bittiya Sanstha Limited   \n",
       "2          2      397               Agriculture Development Bank Limited   \n",
       "3        583     2893                             Ajod Insurance Limited   \n",
       "4        151     2788                 Ankhu Khola Jalvidhyut Company Ltd   \n",
       "\n",
       "   Symbol              Sector  \n",
       "0  ACLBSL        Microfinance  \n",
       "1   AKBSL        Microfinance  \n",
       "2    ADBL    Commercial Banks  \n",
       "3     AIL  Non Life Insurance  \n",
       "4   AKJCL         Hydro Power  "
      ]
     },
     "execution_count": 8,
     "metadata": {},
     "output_type": "execute_result"
    }
   ],
   "source": [
    "smart_wealth_company_list(save_to_csv=True).head()"
   ]
  },
  {
   "cell_type": "markdown",
   "metadata": {},
   "source": [
    "##### Dataframe head of selected companies\n",
    "\n",
    "ℹ️ **NOTE:** Data Fetched from **SmartWealthPro** website is on descending ***Date*** so, I reversed the order of the dataframe to get ascending order.."
   ]
  },
  {
   "cell_type": "code",
   "execution_count": 9,
   "metadata": {},
   "outputs": [
    {
     "name": "stdout",
     "output_type": "stream",
     "text": [
      "Status Code: 200, Mining ⛏ Status: Success\n",
      "Status Code: 200, Mining ⛏ Status: Success\n",
      "Status Code: 200, Mining ⛏ Status: Success\n"
     ]
    }
   ],
   "source": [
    "for company in selected_company_symbol:\n",
    "    smart_wealth_company_history(companyId=smart_wealth_company_code(company),startDate=starting_date,endDate=ending_date,save_to_csv=True)"
   ]
  },
  {
   "cell_type": "code",
   "execution_count": 10,
   "metadata": {},
   "outputs": [
    {
     "data": {
      "text/html": [
       "<div>\n",
       "<style scoped>\n",
       "    .dataframe tbody tr th:only-of-type {\n",
       "        vertical-align: middle;\n",
       "    }\n",
       "\n",
       "    .dataframe tbody tr th {\n",
       "        vertical-align: top;\n",
       "    }\n",
       "\n",
       "    .dataframe thead th {\n",
       "        text-align: right;\n",
       "    }\n",
       "</style>\n",
       "<table border=\"1\" class=\"dataframe\">\n",
       "  <thead>\n",
       "    <tr style=\"text-align: right;\">\n",
       "      <th></th>\n",
       "      <th>Symbol</th>\n",
       "      <th>Date</th>\n",
       "      <th>Open</th>\n",
       "      <th>High</th>\n",
       "      <th>Low</th>\n",
       "      <th>Close</th>\n",
       "    </tr>\n",
       "  </thead>\n",
       "  <tbody>\n",
       "    <tr>\n",
       "      <th>0</th>\n",
       "      <td>CIT</td>\n",
       "      <td>2010-04-20</td>\n",
       "      <td>760.0</td>\n",
       "      <td>751.0</td>\n",
       "      <td>750.0</td>\n",
       "      <td>751.0</td>\n",
       "    </tr>\n",
       "    <tr>\n",
       "      <th>1</th>\n",
       "      <td>CIT</td>\n",
       "      <td>2010-04-21</td>\n",
       "      <td>751.0</td>\n",
       "      <td>736.0</td>\n",
       "      <td>736.0</td>\n",
       "      <td>736.0</td>\n",
       "    </tr>\n",
       "    <tr>\n",
       "      <th>2</th>\n",
       "      <td>CIT</td>\n",
       "      <td>2010-04-22</td>\n",
       "      <td>736.0</td>\n",
       "      <td>722.0</td>\n",
       "      <td>722.0</td>\n",
       "      <td>722.0</td>\n",
       "    </tr>\n",
       "    <tr>\n",
       "      <th>3</th>\n",
       "      <td>CIT</td>\n",
       "      <td>2010-04-26</td>\n",
       "      <td>722.0</td>\n",
       "      <td>708.0</td>\n",
       "      <td>655.0</td>\n",
       "      <td>655.0</td>\n",
       "    </tr>\n",
       "    <tr>\n",
       "      <th>4</th>\n",
       "      <td>CIT</td>\n",
       "      <td>2010-04-28</td>\n",
       "      <td>655.0</td>\n",
       "      <td>650.0</td>\n",
       "      <td>650.0</td>\n",
       "      <td>650.0</td>\n",
       "    </tr>\n",
       "  </tbody>\n",
       "</table>\n",
       "</div>"
      ],
      "text/plain": [
       "  Symbol        Date   Open   High    Low  Close\n",
       "0    CIT  2010-04-20  760.0  751.0  750.0  751.0\n",
       "1    CIT  2010-04-21  751.0  736.0  736.0  736.0\n",
       "2    CIT  2010-04-22  736.0  722.0  722.0  722.0\n",
       "3    CIT  2010-04-26  722.0  708.0  655.0  655.0\n",
       "4    CIT  2010-04-28  655.0  650.0  650.0  650.0"
      ]
     },
     "execution_count": 10,
     "metadata": {},
     "output_type": "execute_result"
    }
   ],
   "source": [
    "CIT = pd.read_csv('./SmartWealthDataset/Company/smartwealthpro_CIT_history.csv')[::-1].reset_index(drop=True)\n",
    "CIT.head()"
   ]
  },
  {
   "cell_type": "code",
   "execution_count": 11,
   "metadata": {},
   "outputs": [
    {
     "data": {
      "text/html": [
       "<div>\n",
       "<style scoped>\n",
       "    .dataframe tbody tr th:only-of-type {\n",
       "        vertical-align: middle;\n",
       "    }\n",
       "\n",
       "    .dataframe tbody tr th {\n",
       "        vertical-align: top;\n",
       "    }\n",
       "\n",
       "    .dataframe thead th {\n",
       "        text-align: right;\n",
       "    }\n",
       "</style>\n",
       "<table border=\"1\" class=\"dataframe\">\n",
       "  <thead>\n",
       "    <tr style=\"text-align: right;\">\n",
       "      <th></th>\n",
       "      <th>Symbol</th>\n",
       "      <th>Date</th>\n",
       "      <th>Open</th>\n",
       "      <th>High</th>\n",
       "      <th>Low</th>\n",
       "      <th>Close</th>\n",
       "    </tr>\n",
       "  </thead>\n",
       "  <tbody>\n",
       "    <tr>\n",
       "      <th>0</th>\n",
       "      <td>NABIL</td>\n",
       "      <td>2010-04-15</td>\n",
       "      <td>2040.0</td>\n",
       "      <td>2040.0</td>\n",
       "      <td>2000.0</td>\n",
       "      <td>2000.0</td>\n",
       "    </tr>\n",
       "    <tr>\n",
       "      <th>1</th>\n",
       "      <td>NABIL</td>\n",
       "      <td>2010-04-15</td>\n",
       "      <td>2040.0</td>\n",
       "      <td>2040.0</td>\n",
       "      <td>2000.0</td>\n",
       "      <td>2000.0</td>\n",
       "    </tr>\n",
       "    <tr>\n",
       "      <th>2</th>\n",
       "      <td>NABIL</td>\n",
       "      <td>2010-04-15</td>\n",
       "      <td>2040.0</td>\n",
       "      <td>2040.0</td>\n",
       "      <td>2000.0</td>\n",
       "      <td>2000.0</td>\n",
       "    </tr>\n",
       "    <tr>\n",
       "      <th>3</th>\n",
       "      <td>NABIL</td>\n",
       "      <td>2010-04-19</td>\n",
       "      <td>2080.0</td>\n",
       "      <td>2039.0</td>\n",
       "      <td>2000.0</td>\n",
       "      <td>2001.0</td>\n",
       "    </tr>\n",
       "    <tr>\n",
       "      <th>4</th>\n",
       "      <td>NABIL</td>\n",
       "      <td>2010-04-20</td>\n",
       "      <td>2001.0</td>\n",
       "      <td>1975.0</td>\n",
       "      <td>1945.0</td>\n",
       "      <td>1945.0</td>\n",
       "    </tr>\n",
       "  </tbody>\n",
       "</table>\n",
       "</div>"
      ],
      "text/plain": [
       "  Symbol        Date    Open    High     Low   Close\n",
       "0  NABIL  2010-04-15  2040.0  2040.0  2000.0  2000.0\n",
       "1  NABIL  2010-04-15  2040.0  2040.0  2000.0  2000.0\n",
       "2  NABIL  2010-04-15  2040.0  2040.0  2000.0  2000.0\n",
       "3  NABIL  2010-04-19  2080.0  2039.0  2000.0  2001.0\n",
       "4  NABIL  2010-04-20  2001.0  1975.0  1945.0  1945.0"
      ]
     },
     "execution_count": 11,
     "metadata": {},
     "output_type": "execute_result"
    }
   ],
   "source": [
    "NABIL = pd.read_csv(\n",
    "    './SmartWealthDataset/Company/smartwealthpro_NABIL_history.csv')[::-1].reset_index(drop=True)\n",
    "NABIL.head()\n"
   ]
  },
  {
   "cell_type": "code",
   "execution_count": 12,
   "metadata": {},
   "outputs": [
    {
     "data": {
      "text/html": [
       "<div>\n",
       "<style scoped>\n",
       "    .dataframe tbody tr th:only-of-type {\n",
       "        vertical-align: middle;\n",
       "    }\n",
       "\n",
       "    .dataframe tbody tr th {\n",
       "        vertical-align: top;\n",
       "    }\n",
       "\n",
       "    .dataframe thead th {\n",
       "        text-align: right;\n",
       "    }\n",
       "</style>\n",
       "<table border=\"1\" class=\"dataframe\">\n",
       "  <thead>\n",
       "    <tr style=\"text-align: right;\">\n",
       "      <th></th>\n",
       "      <th>Symbol</th>\n",
       "      <th>Date</th>\n",
       "      <th>Open</th>\n",
       "      <th>High</th>\n",
       "      <th>Low</th>\n",
       "      <th>Close</th>\n",
       "    </tr>\n",
       "  </thead>\n",
       "  <tbody>\n",
       "    <tr>\n",
       "      <th>0</th>\n",
       "      <td>NLIC</td>\n",
       "      <td>2010-05-23</td>\n",
       "      <td>980.0</td>\n",
       "      <td>961.0</td>\n",
       "      <td>961.0</td>\n",
       "      <td>961.0</td>\n",
       "    </tr>\n",
       "    <tr>\n",
       "      <th>1</th>\n",
       "      <td>NLIC</td>\n",
       "      <td>2010-06-03</td>\n",
       "      <td>961.0</td>\n",
       "      <td>942.0</td>\n",
       "      <td>942.0</td>\n",
       "      <td>942.0</td>\n",
       "    </tr>\n",
       "    <tr>\n",
       "      <th>2</th>\n",
       "      <td>NLIC</td>\n",
       "      <td>2010-06-14</td>\n",
       "      <td>942.0</td>\n",
       "      <td>924.0</td>\n",
       "      <td>871.0</td>\n",
       "      <td>871.0</td>\n",
       "    </tr>\n",
       "    <tr>\n",
       "      <th>3</th>\n",
       "      <td>NLIC</td>\n",
       "      <td>2010-07-12</td>\n",
       "      <td>871.0</td>\n",
       "      <td>854.0</td>\n",
       "      <td>850.0</td>\n",
       "      <td>850.0</td>\n",
       "    </tr>\n",
       "    <tr>\n",
       "      <th>4</th>\n",
       "      <td>NLIC</td>\n",
       "      <td>2010-07-25</td>\n",
       "      <td>850.0</td>\n",
       "      <td>833.0</td>\n",
       "      <td>770.0</td>\n",
       "      <td>770.0</td>\n",
       "    </tr>\n",
       "  </tbody>\n",
       "</table>\n",
       "</div>"
      ],
      "text/plain": [
       "  Symbol        Date   Open   High    Low  Close\n",
       "0   NLIC  2010-05-23  980.0  961.0  961.0  961.0\n",
       "1   NLIC  2010-06-03  961.0  942.0  942.0  942.0\n",
       "2   NLIC  2010-06-14  942.0  924.0  871.0  871.0\n",
       "3   NLIC  2010-07-12  871.0  854.0  850.0  850.0\n",
       "4   NLIC  2010-07-25  850.0  833.0  770.0  770.0"
      ]
     },
     "execution_count": 12,
     "metadata": {},
     "output_type": "execute_result"
    }
   ],
   "source": [
    "NLIC = pd.read_csv(\n",
    "    './SmartWealthDataset/Company/smartwealthpro_NLIC_history.csv')[::-1].reset_index(drop=True)\n",
    "NLIC.head()\n"
   ]
  },
  {
   "cell_type": "markdown",
   "metadata": {},
   "source": [
    "## Stock Price Prediction"
   ]
  },
  {
   "cell_type": "markdown",
   "metadata": {},
   "source": [
    "### Using Linear Regression"
   ]
  },
  {
   "cell_type": "code",
   "execution_count": 13,
   "metadata": {},
   "outputs": [],
   "source": [
    "# Supervised Learning Problem -> Regression (Based on Continuous Data Set) and Classification(Characterstics)\n",
    "# \n",
    "\n",
    "# Problem Statement -> I don't information whether the stock price will go up or down."
   ]
  },
  {
   "cell_type": "markdown",
   "metadata": {},
   "source": [
    "### Using Random Forest"
   ]
  },
  {
   "cell_type": "markdown",
   "metadata": {},
   "source": [
    "### Using LSTM"
   ]
  },
  {
   "cell_type": "markdown",
   "metadata": {},
   "source": [
    "## Comparison of Models"
   ]
  },
  {
   "cell_type": "markdown",
   "metadata": {},
   "source": [
    "## Evaluation of Models"
   ]
  },
  {
   "cell_type": "markdown",
   "metadata": {},
   "source": [
    "### Accuracy"
   ]
  },
  {
   "cell_type": "markdown",
   "metadata": {},
   "source": [
    "### Confusion Matrix"
   ]
  },
  {
   "cell_type": "markdown",
   "metadata": {},
   "source": [
    "### Classification Report"
   ]
  },
  {
   "cell_type": "markdown",
   "metadata": {},
   "source": [
    "### ROC Curve"
   ]
  },
  {
   "cell_type": "markdown",
   "metadata": {},
   "source": [
    "### Precision-Recall Curve"
   ]
  },
  {
   "cell_type": "markdown",
   "metadata": {},
   "source": [
    "### ROC-AUC Curve"
   ]
  },
  {
   "cell_type": "markdown",
   "metadata": {},
   "source": [
    "### Precision-Recall-AUC Curve"
   ]
  },
  {
   "cell_type": "markdown",
   "metadata": {},
   "source": [
    "## Conclusion"
   ]
  }
 ],
 "metadata": {
  "interpreter": {
   "hash": "fcf1d46d271c46101d6967829d4a5f475342a2ce08e4944f989fbcdc9bb23690"
  },
  "kernelspec": {
   "display_name": "Python 3.9.7 64-bit",
   "language": "python",
   "name": "python3"
  },
  "language_info": {
   "codemirror_mode": {
    "name": "ipython",
    "version": 3
   },
   "file_extension": ".py",
   "mimetype": "text/x-python",
   "name": "python",
   "nbconvert_exporter": "python",
   "pygments_lexer": "ipython3",
   "version": "3.9.7"
  },
  "orig_nbformat": 4
 },
 "nbformat": 4,
 "nbformat_minor": 2
}
